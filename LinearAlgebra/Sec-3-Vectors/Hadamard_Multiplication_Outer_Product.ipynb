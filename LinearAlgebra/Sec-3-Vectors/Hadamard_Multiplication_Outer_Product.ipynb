{
 "cells": [
  {
   "cell_type": "markdown",
   "id": "8b4e461b-e1a6-4848-95f2-44db6c1ed928",
   "metadata": {},
   "source": [
    "Vector Hadamard multiplication"
   ]
  },
  {
   "cell_type": "code",
   "execution_count": 1,
   "id": "bd61b9fb-5010-4763-bccf-413b09659c2c",
   "metadata": {},
   "outputs": [],
   "source": [
    "import numpy as np\n",
    "import matplotlib.pyplot as plt\n",
    "import mpl_toolkits.mplot3d as mplot3d"
   ]
  },
  {
   "cell_type": "code",
   "execution_count": 3,
   "id": "255482e4-87bb-48ff-bb5d-cd22e0aba994",
   "metadata": {},
   "outputs": [
    {
     "name": "stdout",
     "output_type": "stream",
     "text": [
      "[ 3 12 10]\n"
     ]
    }
   ],
   "source": [
    "w1 = [1, 3, 5]\n",
    "w2 = [3, 4, 2]\n",
    "\n",
    "w3 = np.multiply(w1, w2)\n",
    "\n",
    "print(w3)"
   ]
  },
  {
   "cell_type": "markdown",
   "id": "1d86b860-2af1-48bf-a0b5-f319d7a833f4",
   "metadata": {},
   "source": [
    "Outer Product"
   ]
  },
  {
   "cell_type": "code",
   "execution_count": 7,
   "id": "66d4f6c5-65b1-445e-a418-78feda19782d",
   "metadata": {},
   "outputs": [
    {
     "name": "stdout",
     "output_type": "stream",
     "text": [
      "[[-1  0  1]\n",
      " [-2  0  2]\n",
      " [-3  0  3]]\n",
      "\n",
      "[[-1.  0.  1.]\n",
      " [-2.  0.  2.]\n",
      " [-3.  0.  3.]]\n"
     ]
    }
   ],
   "source": [
    "v1 = np.array([1,2,3])\n",
    "v2 = np.array([-1,0,1])\n",
    "\n",
    "# Outer Product\n",
    "v3 = np.outer(v1, v2)\n",
    "\n",
    "print(v3)\n",
    "\n",
    "op = np.zeros((len(v1), len(v2)))\n",
    "for i in range(0, len(v1)):\n",
    "    for j in range(0, len(v2)):\n",
    "        op[i, j] = v1[i] * v2[j]\n",
    "\n",
    "print()\n",
    "print(op)"
   ]
  },
  {
   "cell_type": "code",
   "execution_count": null,
   "id": "8de0e871-f8be-4e53-9614-50ce7fd1de28",
   "metadata": {},
   "outputs": [],
   "source": []
  }
 ],
 "metadata": {
  "kernelspec": {
   "display_name": "Python 3 (ipykernel)",
   "language": "python",
   "name": "python3"
  },
  "language_info": {
   "codemirror_mode": {
    "name": "ipython",
    "version": 3
   },
   "file_extension": ".py",
   "mimetype": "text/x-python",
   "name": "python",
   "nbconvert_exporter": "python",
   "pygments_lexer": "ipython3",
   "version": "3.12.8"
  }
 },
 "nbformat": 4,
 "nbformat_minor": 5
}
