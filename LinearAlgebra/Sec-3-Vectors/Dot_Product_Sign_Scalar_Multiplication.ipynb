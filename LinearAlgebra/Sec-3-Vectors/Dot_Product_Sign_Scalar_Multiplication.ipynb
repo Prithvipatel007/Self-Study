{
 "cells": [
  {
   "cell_type": "markdown",
   "id": "715ce26c-b62c-4140-8297-3727041feb61",
   "metadata": {},
   "source": [
    "Dot product sign and scalar multiplication"
   ]
  },
  {
   "cell_type": "code",
   "execution_count": 1,
   "id": "1e40e559-9a9b-4241-ba6f-711bf6769ae1",
   "metadata": {},
   "outputs": [],
   "source": [
    "import numpy as np\n",
    "import matplotlib.pyplot as plt"
   ]
  },
  {
   "cell_type": "code",
   "execution_count": 24,
   "id": "f22fa1f7-90ce-4803-a6e6-228668d815e5",
   "metadata": {},
   "outputs": [
    {
     "name": "stdout",
     "output_type": "stream",
     "text": [
      "Dot product without scaling : -1\n",
      "Dot product with scaling : -6\n"
     ]
    }
   ],
   "source": [
    "## Test whether the dot product sign is invariant to scalar multiplication\n",
    "# Is the sign of the dot product affected by scalar multiplication\n",
    "\n",
    "# Generate two vectors (R3)\n",
    "v1 = np.array([1, 2, 3])\n",
    "v2 = np.array([5, 9, -8])\n",
    "\n",
    "# Generate two scalars \n",
    "s1 = 2\n",
    "s2 = 3\n",
    "\n",
    "# Compute the dot product between vectors\n",
    "dp_v = np.dot(v1, v2)\n",
    "print(f'Dot product without scaling : {dp_v}')\n",
    "\n",
    "# Compute the dot product between the scaled vector\n",
    "dp_v1_s1 = s1 * v1\n",
    "dp_v2_s2 = s2 * v2\n",
    "\n",
    "dp_v_s = np.dot(dp_v1_s1, dp_v2_s2)\n",
    "print(f'Dot product with scaling : {dp_v_s}')\n"
   ]
  },
  {
   "cell_type": "code",
   "execution_count": null,
   "id": "1ea5b12c-abe8-4d28-9199-b9e26d8582ab",
   "metadata": {},
   "outputs": [],
   "source": []
  }
 ],
 "metadata": {
  "kernelspec": {
   "display_name": "Python 3 (ipykernel)",
   "language": "python",
   "name": "python3"
  },
  "language_info": {
   "codemirror_mode": {
    "name": "ipython",
    "version": 3
   },
   "file_extension": ".py",
   "mimetype": "text/x-python",
   "name": "python",
   "nbconvert_exporter": "python",
   "pygments_lexer": "ipython3",
   "version": "3.12.8"
  }
 },
 "nbformat": 4,
 "nbformat_minor": 5
}
