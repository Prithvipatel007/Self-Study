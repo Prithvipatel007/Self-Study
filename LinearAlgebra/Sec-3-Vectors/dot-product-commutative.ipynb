{
 "cells": [
  {
   "cell_type": "markdown",
   "id": "3c060ebd-b365-4bca-8df5-2e752f8d1e52",
   "metadata": {
    "editable": true,
    "slideshow": {
     "slide_type": ""
    },
    "tags": []
   },
   "source": [
    "Dot product commutative property?\n",
    "\n",
    "Is the dot product commutative?\n",
    "\n",
    "a' * b = b' * a\n",
    "\n",
    "1) Generate two 100 element random raw vectors, compute dot product a with b and b with a\n",
    "2) Generate two 2-element integer rwo vectors, repeat"
   ]
  },
  {
   "cell_type": "code",
   "execution_count": 1,
   "id": "759d55a1-0a4f-4040-8ad9-311c01f4d7e6",
   "metadata": {
    "editable": true,
    "slideshow": {
     "slide_type": ""
    },
    "tags": []
   },
   "outputs": [],
   "source": [
    "import numpy as np\n",
    "import matplotlib.pyplot as plt\n",
    "import mpl_toolkits.mplot3d as mplot3d"
   ]
  },
  {
   "cell_type": "code",
   "execution_count": 12,
   "id": "f7b4374e-04e4-45c5-a322-c428f5a7ea7d",
   "metadata": {
    "editable": true,
    "slideshow": {
     "slide_type": ""
    },
    "tags": []
   },
   "outputs": [
    {
     "name": "stdout",
     "output_type": "stream",
     "text": [
      "-2.468023424338411\n",
      "\n",
      "-2.468023424338411\n"
     ]
    }
   ],
   "source": [
    "n = 100\n",
    "\n",
    "row_vec_1 = np.random.randn(n)\n",
    "row_vec_2 = np.random.randn(n)\n",
    "\n",
    "dotA = np.dot(row_vec_1, row_vec_2)\n",
    "dotB = np.dot(row_vec_2, row_vec_1)\n",
    "\n",
    "print(dotA)\n",
    "print()\n",
    "print(dotB)\n"
   ]
  },
  {
   "cell_type": "code",
   "execution_count": 24,
   "id": "a06c36b1-c454-4740-8a0d-712ef793fe9a",
   "metadata": {
    "editable": true,
    "slideshow": {
     "slide_type": ""
    },
    "tags": []
   },
   "outputs": [
    {
     "name": "stdout",
     "output_type": "stream",
     "text": [
      "23\n",
      "\n",
      "23\n"
     ]
    }
   ],
   "source": [
    "n = 2\n",
    "\n",
    "row_vec_1 = [2, 3]\n",
    "row_vec_2 = [4, 5]\n",
    "\n",
    "dotA = np.dot(row_vec_1, row_vec_2)\n",
    "dotB = np.dot(row_vec_2, row_vec_1)\n",
    "c   \n",
    "print(dotA)\n",
    "print()\n",
    "print(dotB)"
   ]
  },
  {
   "cell_type": "code",
   "execution_count": null,
   "id": "7f9b3332-90ae-4245-b4b8-9a34eb75fbfc",
   "metadata": {},
   "outputs": [],
   "source": []
  }
 ],
 "metadata": {
  "kernelspec": {
   "display_name": "Python 3 (ipykernel)",
   "language": "python",
   "name": "python3"
  },
  "language_info": {
   "codemirror_mode": {
    "name": "ipython",
    "version": 3
   },
   "file_extension": ".py",
   "mimetype": "text/x-python",
   "name": "python",
   "nbconvert_exporter": "python",
   "pygments_lexer": "ipython3",
   "version": "3.12.8"
  }
 },
 "nbformat": 4,
 "nbformat_minor": 5
}
