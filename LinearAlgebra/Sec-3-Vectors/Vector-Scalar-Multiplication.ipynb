{
 "cells": [
  {
   "cell_type": "markdown",
   "id": "1506cf83-832f-4d99-b725-6a08481f58e8",
   "metadata": {},
   "source": [
    "Example: Vector Scalar multiplication"
   ]
  },
  {
   "cell_type": "code",
   "execution_count": 2,
   "id": "357999e7-bae1-4ddd-bc0b-8bb08e49ac01",
   "metadata": {},
   "outputs": [],
   "source": [
    "import numpy as np\n",
    "import matplotlib.pyplot as plt\n",
    "import mpl_toolkits.mplot3d as mplot"
   ]
  },
  {
   "cell_type": "code",
   "execution_count": 19,
   "id": "f62d0e72-f7a8-4db1-98b5-d040bcb706ec",
   "metadata": {},
   "outputs": [
    {
     "data": {
      "image/png": "[encoded data removed]",
      "text/plain": [
       "<Figure size 640x480 with 1 Axes>"
      ]
     },
     "metadata": {},
     "output_type": "display_data"
    }
   ],
   "source": [
    "v1 = np.array([3, -1])\n",
    "l = -0.3\n",
    "v1m = v1 * l  # scalar-modulated\n",
    "\n",
    "# plot them\n",
    "plt.plot([0, v1[0]], [0, v1[1]], 'b', label='v1')\n",
    "plt.plot([0, v1m[0]], [0, v1m[1]], 'r:', label='lambda *  v_1')\n",
    "\n",
    "plt.axis('square')\n",
    "axlim = max([abs(max(v1)), abs(max(v1m))]) * 1.5  # dynamic axis lim\n",
    "plt.axis((-axlim, axlim, -axlim, axlim))\n",
    "plt.grid()\n",
    "plt.show()"
   ]
  },
  {
   "cell_type": "code",
   "execution_count": null,
   "id": "cbab8846-6090-4d09-b2bc-e3a3626b1e0d",
   "metadata": {},
   "outputs": [],
   "source": []
  },
  {
   "cell_type": "code",
   "execution_count": null,
   "id": "07eed84c-7bbc-4218-833d-9914e92dc62b",
   "metadata": {},
   "outputs": [],
   "source": []
  },
  {
   "cell_type": "code",
   "execution_count": null,
   "id": "72013db6-1573-4bee-b9ba-59cc9767abfa",
   "metadata": {},
   "outputs": [],
   "source": []
  }
 ],
 "metadata": {
  "kernelspec": {
   "display_name": "Python 3 (ipykernel)",
   "language": "python",
   "name": "python3"
  },
  "language_info": {
   "codemirror_mode": {
    "name": "ipython",
    "version": 3
   },
   "file_extension": ".py",
   "mimetype": "text/x-python",
   "name": "python",
   "nbconvert_exporter": "python",
   "pygments_lexer": "ipython3",
   "version": "3.12.8"
  }
 },
 "nbformat": 4,
 "nbformat_minor": 5
}
