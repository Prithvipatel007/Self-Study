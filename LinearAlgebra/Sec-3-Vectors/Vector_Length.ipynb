{
 "cells": [
  {
   "cell_type": "markdown",
   "id": "4d9a43f7-4f3f-4175-8c58-15b64e03fc6d",
   "metadata": {
    "editable": true,
    "slideshow": {
     "slide_type": ""
    },
    "tags": []
   },
   "source": [
    "Vector Length - norm or magnitude of vector"
   ]
  },
  {
   "cell_type": "code",
   "execution_count": 2,
   "id": "ad7cd5cd-b12e-40d9-b2a8-8dc3a2a81954",
   "metadata": {
    "editable": true,
    "slideshow": {
     "slide_type": ""
    },
    "tags": []
   },
   "outputs": [],
   "source": [
    "import numpy as np\n",
    "import matplotlib.pyplot as plt\n",
    "import mpl_toolkits.mplot3d as mplot3d"
   ]
  },
  {
   "cell_type": "code",
   "execution_count": 4,
   "id": "d511b33f-9b0c-4e67-b9c3-7b09d15c745f",
   "metadata": {},
   "outputs": [
    {
     "name": "stdout",
     "output_type": "stream",
     "text": [
      "[np.float64(9.539392014169456), np.float64(9.539392014169456)]\n"
     ]
    }
   ],
   "source": [
    "v1 = np.array([1,2,3,4,5,6])\n",
    "\n",
    "val1 = np.sqrt(np.dot(v1, v1))\n",
    "\n",
    "val2 = np.linalg.norm(v1)\n",
    "\n",
    "print([ val1, val2])"
   ]
  },
  {
   "cell_type": "code",
   "execution_count": null,
   "id": "e5f69011-8f01-4f0e-83f4-34242469f55f",
   "metadata": {},
   "outputs": [],
   "source": []
  }
 ],
 "metadata": {
  "kernelspec": {
   "display_name": "Python 3 (ipykernel)",
   "language": "python",
   "name": "python3"
  },
  "language_info": {
   "codemirror_mode": {
    "name": "ipython",
    "version": 3
   },
   "file_extension": ".py",
   "mimetype": "text/x-python",
   "name": "python",
   "nbconvert_exporter": "python",
   "pygments_lexer": "ipython3",
   "version": "3.12.8"
  }
 },
 "nbformat": 4,
 "nbformat_minor": 5
}
