{
 "cells": [
  {
   "cell_type": "markdown",
   "id": "6bda876e-7074-48b7-a986-a569aed8b9f6",
   "metadata": {},
   "source": [
    "Hermitian Transpose"
   ]
  },
  {
   "cell_type": "code",
   "execution_count": 1,
   "id": "f725a2ee-e181-4c35-83e0-dfbab92d6c8e",
   "metadata": {},
   "outputs": [],
   "source": [
    "import numpy as np\n",
    "import matplotlib.pyplot as plt\n",
    "import mpl_toolkits.mplot3d as mplot3d"
   ]
  },
  {
   "cell_type": "code",
   "execution_count": 14,
   "id": "fbcd9265-1fb4-46e0-8f90-c48d5ef67245",
   "metadata": {},
   "outputs": [
    {
     "name": "stdout",
     "output_type": "stream",
     "text": [
      "5.0\n",
      "(-7+24j)\n",
      "(25+0j)\n",
      "[3.+0.j 0.+4.j 5.+2.j 2.-5.j]\n",
      "[3.+0.j 0.+4.j 5.+2.j 2.-5.j]\n",
      "[3.-0.j 0.-4.j 5.-2.j 2.+5.j]\n"
     ]
    }
   ],
   "source": [
    "# Create a complex number\n",
    "z = 3 + 4j\n",
    "\n",
    "# magnitude\n",
    "print(np.linalg.norm(z))\n",
    "\n",
    "# by transpose?\n",
    "print(np.transpose(z)*z)\n",
    "\n",
    "# by Hermitian transpose\n",
    "print(np.transpose(z.conjugate()) * z)\n",
    "\n",
    "## Complex vector\n",
    "v = np.array([3, 4j, 5+2j, 2-5j])\n",
    "print(v.T)\n",
    "print(np.transpose(v))\n",
    "print(np.transpose(v.conjugate()) )"
   ]
  },
  {
   "cell_type": "code",
   "execution_count": null,
   "id": "ca3f989a-a6d8-4028-8e19-ec16158f795c",
   "metadata": {},
   "outputs": [],
   "source": []
  }
 ],
 "metadata": {
  "kernelspec": {
   "display_name": "Python 3 (ipykernel)",
   "language": "python",
   "name": "python3"
  },
  "language_info": {
   "codemirror_mode": {
    "name": "ipython",
    "version": 3
   },
   "file_extension": ".py",
   "mimetype": "text/x-python",
   "name": "python",
   "nbconvert_exporter": "python",
   "pygments_lexer": "ipython3",
   "version": "3.12.8"
  }
 },
 "nbformat": 4,
 "nbformat_minor": 5
}
