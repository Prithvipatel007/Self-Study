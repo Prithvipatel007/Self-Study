{
 "cells": [
  {
   "cell_type": "markdown",
   "id": "36ce23ff-ccb7-4c3c-a980-264c64f85e5d",
   "metadata": {},
   "source": [
    "Example of dot product"
   ]
  },
  {
   "cell_type": "code",
   "execution_count": 3,
   "id": "66065f55-968d-49cc-980c-d515cf36d97e",
   "metadata": {},
   "outputs": [],
   "source": [
    "import numpy as np\n",
    "import matplotlib.pyplot as plt\n",
    "import mpl_toolkits.mplot3d as mplot3d"
   ]
  },
  {
   "cell_type": "code",
   "execution_count": 9,
   "id": "c09b4cfb-01a5-4828-8c67-0c0a11d848f0",
   "metadata": {},
   "outputs": [
    {
     "name": "stdout",
     "output_type": "stream",
     "text": [
      "32 32 32 32\n"
     ]
    }
   ],
   "source": [
    "v1 = np.array([1, 2, 3, 4, 5])\n",
    "v2 = np.array([0, -4, -3, 6, 5])\n",
    "\n",
    "# method 1\n",
    "dp1 = sum(np.multiply(v1, v2))\n",
    "\n",
    "# method 2\n",
    "dp2 = np.dot(v1, v2)\n",
    "\n",
    "# method 3\n",
    "dp3 = np.matmul(v1, v2)\n",
    "\n",
    "# method 4\n",
    "dp4 = 0 # initialize\n",
    "\n",
    "# loop over elements\n",
    "for i in range(0, len(v1)):\n",
    "    dp4 = dp4 + v1[i] * v2[i] # multiply corresponding element and sum\n",
    "\n",
    "print(dp1, dp2, dp3, dp4)"
   ]
  },
  {
   "cell_type": "code",
   "execution_count": null,
   "id": "ead4080c-c1a1-4fce-844b-1d6f9e6aea7c",
   "metadata": {},
   "outputs": [],
   "source": []
  }
 ],
 "metadata": {
  "kernelspec": {
   "display_name": "Python 3 (ipykernel)",
   "language": "python",
   "name": "python3"
  },
  "language_info": {
   "codemirror_mode": {
    "name": "ipython",
    "version": 3
   },
   "file_extension": ".py",
   "mimetype": "text/x-python",
   "name": "python",
   "nbconvert_exporter": "python",
   "pygments_lexer": "ipython3",
   "version": "3.12.8"
  }
 },
 "nbformat": 4,
 "nbformat_minor": 5
}
