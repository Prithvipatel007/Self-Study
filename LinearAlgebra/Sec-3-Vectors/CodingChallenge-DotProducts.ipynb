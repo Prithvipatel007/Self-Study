{
 "cells": [
  {
   "cell_type": "markdown",
   "id": "bd012152-6179-4653-92b8-8c51c881ccb1",
   "metadata": {},
   "source": [
    "Coding challenge - Dot Product with matrix columns"
   ]
  },
  {
   "cell_type": "code",
   "execution_count": 10,
   "id": "90f81bea-e775-4598-9937-9b24ce1f1549",
   "metadata": {
    "editable": true,
    "slideshow": {
     "slide_type": ""
    },
    "tags": []
   },
   "outputs": [],
   "source": [
    "import numpy as np\n",
    "import matplotlib.pyplot as plt\n",
    "import mpl_toolkits.mplot3d as mplot3d"
   ]
  },
  {
   "cell_type": "code",
   "execution_count": 11,
   "id": "1df29f80-886b-444c-81bf-c32d6e41af61",
   "metadata": {
    "editable": true,
    "slideshow": {
     "slide_type": ""
    },
    "tags": []
   },
   "outputs": [
    {
     "name": "stdout",
     "output_type": "stream",
     "text": [
      "[[-0.99958696  0.69944638  0.37306798  0.6918397  -0.41492764  0.24771944]\n",
      " [ 0.90342678  0.69920067 -0.6355275  -0.98076454  0.38357445 -0.37261507]\n",
      " [ 0.67389954  1.06230196  0.97557978  0.17644301  1.24836613  0.34934919]\n",
      " [-0.87492458 -1.08735837 -0.66702001 -0.18442943 -1.00000076 -0.26926967]]\n",
      "(4, 6)\n",
      "\n",
      "[[ 0.47595415  0.37918756  0.01951591 -0.70624096  0.78574084 -1.06306035]\n",
      " [ 0.22878936 -0.26279371  0.74041788  0.56309892  1.12391761  2.04607105]\n",
      " [-0.70082423  1.64090314  1.14551246  0.48365586  0.62045919 -0.40037326]\n",
      " [ 2.63731801  0.23391823  0.01501656  1.66327856 -0.46560341 -1.7912917 ]]\n",
      "(4, 6)\n"
     ]
    }
   ],
   "source": [
    "# Create 2 4x6 matrix of random numbers\n",
    "# Use a for-loop to compute dot products between corresponding columns\n",
    "\n",
    "m = 4\n",
    "n = 6\n",
    "\n",
    "mat1 = np.random.randn(m,n)\n",
    "mat2 = np.random.randn(m,n)\n",
    "\n",
    "print(mat1)\n",
    "print(mat1.shape)\n",
    "print()\n",
    "print(mat2)\n",
    "print(mat2.shape)"
   ]
  },
  {
   "cell_type": "code",
   "execution_count": 12,
   "id": "0430dc32-d728-43bc-9deb-ad296ea30d93",
   "metadata": {},
   "outputs": [
    {
     "name": "stdout",
     "output_type": "stream",
     "text": [
      "[-3.04880258  1.57025751  0.64424728 -1.26229281  1.34524449 -0.68326715]\n"
     ]
    }
   ],
   "source": [
    "dps = np.zeros(n)\n",
    "\n",
    "for i in range(n):\n",
    "    dps[i] = np.dot(mat1[:,i], mat2[:,i])\n",
    "\n",
    "print(dps)\n"
   ]
  },
  {
   "cell_type": "code",
   "execution_count": null,
   "id": "65046534-4e19-4d9c-b86b-d923590ec5b2",
   "metadata": {
    "editable": true,
    "slideshow": {
     "slide_type": ""
    },
    "tags": []
   },
   "outputs": [],
   "source": []
  }
 ],
 "metadata": {
  "kernelspec": {
   "display_name": "Python 3 (ipykernel)",
   "language": "python",
   "name": "python3"
  },
  "language_info": {
   "codemirror_mode": {
    "name": "ipython",
    "version": 3
   },
   "file_extension": ".py",
   "mimetype": "text/x-python",
   "name": "python",
   "nbconvert_exporter": "python",
   "pygments_lexer": "ipython3",
   "version": "3.12.8"
  }
 },
 "nbformat": 4,
 "nbformat_minor": 5
}
