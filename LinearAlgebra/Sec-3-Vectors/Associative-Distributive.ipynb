{
 "cells": [
  {
   "cell_type": "markdown",
   "id": "47c024ad-36f4-4ec8-a659-175b7b752569",
   "metadata": {},
   "source": [
    "Dot product properties - associative and didstributive"
   ]
  },
  {
   "cell_type": "code",
   "execution_count": 1,
   "id": "db310b89-c361-4b2f-8d65-bee6e3715545",
   "metadata": {},
   "outputs": [],
   "source": [
    "import numpy as np\n",
    "import matplotlib.pyplot as plt\n",
    "import mpl_toolkits.mplot3d as mplot3d"
   ]
  },
  {
   "cell_type": "code",
   "execution_count": 2,
   "id": "68a6d2af-5117-4293-bc23-c65f3099731d",
   "metadata": {},
   "outputs": [
    {
     "name": "stdout",
     "output_type": "stream",
     "text": [
      "[np.float64(4.142100362254584), np.float64(4.142100362254585)]\n"
     ]
    }
   ],
   "source": [
    "## Distributive property\n",
    "\n",
    "# Create 10 random vectors\n",
    "n = 10\n",
    "a = np.random.randn(n)\n",
    "b = np.random.randn(n)\n",
    "c = np.random.randn(n)\n",
    "\n",
    "# The two results\n",
    "res1 = np.dot(a , (b + c))\n",
    "res2 = np.dot(a, b) + np.dot(a, c)\n",
    "\n",
    "# Compare the results\n",
    "print([ res1, res2])"
   ]
  },
  {
   "cell_type": "code",
   "execution_count": 8,
   "id": "eba35e45-4ad3-44d4-b0a4-1f95e891d730",
   "metadata": {},
   "outputs": [
    {
     "name": "stdout",
     "output_type": "stream",
     "text": [
      "[ 0.49729574  0.10496998  0.27946573 -0.52553586  0.1876154   0.17138243\n",
      " -0.66125982 -0.94740404  1.14571486  1.43996758]\n",
      "[ 1.3849049  -3.40472596 -5.21502181 -2.76475967  4.20789169 -1.55987664\n",
      "  6.57296197 -0.35055634  1.78207678 -0.05922141]\n"
     ]
    }
   ],
   "source": [
    "## Associative property\n",
    "\n",
    "# Create 10 random vectors\n",
    "n = 10\n",
    "a = np.random.randn(n)\n",
    "b = np.random.randn(n)\n",
    "c = np.random.randn(n)\n",
    "\n",
    "# The two results\n",
    "res1 = np.dot(a, np.dot(b,c))\n",
    "res2 = np.dot(np.dot(a, b), c)\n",
    "\n",
    "# Compare results\n",
    "print(res1)\n",
    "print(res2)\n",
    "\n",
    "### Special case\n",
    "# 1) one vector is 0\n",
    "# 2) a = b = c\n",
    "\n"
   ]
  },
  {
   "cell_type": "code",
   "execution_count": null,
   "id": "66d21312-c08e-4a70-a68e-392f86718f64",
   "metadata": {},
   "outputs": [],
   "source": []
  }
 ],
 "metadata": {
  "kernelspec": {
   "display_name": "Python 3 (ipykernel)",
   "language": "python",
   "name": "python3"
  },
  "language_info": {
   "codemirror_mode": {
    "name": "ipython",
    "version": 3
   },
   "file_extension": ".py",
   "mimetype": "text/x-python",
   "name": "python",
   "nbconvert_exporter": "python",
   "pygments_lexer": "ipython3",
   "version": "3.12.8"
  }
 },
 "nbformat": 4,
 "nbformat_minor": 5
}
