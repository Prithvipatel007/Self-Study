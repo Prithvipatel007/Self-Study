{
 "cells": [
  {
   "cell_type": "markdown",
   "id": "47c024ad-36f4-4ec8-a659-175b7b752569",
   "metadata": {
    "editable": true,
    "slideshow": {
     "slide_type": ""
    },
    "tags": []
   },
   "source": [
    "Dot product properties - associative and didstributive"
   ]
  },
  {
   "cell_type": "code",
   "execution_count": 2,
   "id": "db310b89-c361-4b2f-8d65-bee6e3715545",
   "metadata": {},
   "outputs": [],
   "source": [
    "import numpy as np\n",
    "import matplotlib.pyplot as plt\n",
    "import mpl_toolkits.mplot3d as mplot3d"
   ]
  },
  {
   "cell_type": "code",
   "execution_count": 3,
   "id": "68a6d2af-5117-4293-bc23-c65f3099731d",
   "metadata": {},
   "outputs": [
    {
     "name": "stdout",
     "output_type": "stream",
     "text": [
      "[np.float64(5.696369114598346), np.float64(5.696369114598344)]\n"
     ]
    }
   ],
   "source": [
    "## Distributive property\n",
    "\n",
    "# Create 10 random vectors\n",
    "n = 10\n",
    "a = np.random.randn(n)\n",
    "b = np.random.randn(n)\n",
    "c = np.random.randn(n)\n",
    "\n",
    "# The two results\n",
    "res1 = np.dot(a , (b + c))\n",
    "res2 = np.dot(a, b) + np.dot(a, c)\n",
    "\n",
    "# Compare the results\n",
    "print([ res1, res2])"
   ]
  },
  {
   "cell_type": "code",
   "execution_count": 4,
   "id": "eba35e45-4ad3-44d4-b0a4-1f95e891d730",
   "metadata": {},
   "outputs": [
    {
     "name": "stdout",
     "output_type": "stream",
     "text": [
      "[ 3.55486883  0.61948419 -4.01546335  1.43509714  2.42560759 -0.75737247\n",
      " -0.2042042   0.68038842 -0.48852388 -0.30009093]\n",
      "[ 0.93670743  0.88191801  0.7098527  -0.86286468 -3.42285868 -0.72910226\n",
      " -0.85589679 -1.19990782 -1.90025987 -1.58081405]\n"
     ]
    }
   ],
   "source": [
    "## Associative property\n",
    "\n",
    "# Create 10 random vectors\n",
    "n = 10\n",
    "a = np.random.randn(n)\n",
    "b = np.random.randn(n)\n",
    "c = np.random.randn(n)\n",
    "\n",
    "# The two results\n",
    "res1 = np.dot(a, np.dot(b,c))\n",
    "res2 = np.dot(np.dot(a, b), c)\n",
    "\n",
    "# Compare results\n",
    "print(res1)\n",
    "print(res2)\n",
    "\n",
    "### Special case\n",
    "# 1) one vector is 0\n",
    "# 2) a = b = c\n",
    "\n"
   ]
  },
  {
   "cell_type": "code",
   "execution_count": null,
   "id": "66d21312-c08e-4a70-a68e-392f86718f64",
   "metadata": {},
   "outputs": [],
   "source": []
  }
 ],
 "metadata": {
  "kernelspec": {
   "display_name": "Python 3 (ipykernel)",
   "language": "python",
   "name": "python3"
  },
  "language_info": {
   "codemirror_mode": {
    "name": "ipython",
    "version": 3
   },
   "file_extension": ".py",
   "mimetype": "text/x-python",
   "name": "python",
   "nbconvert_exporter": "python",
   "pygments_lexer": "ipython3",
   "version": "3.12.8"
  }
 },
 "nbformat": 4,
 "nbformat_minor": 5
}
