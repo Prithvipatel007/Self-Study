{
 "cells": [
  {
   "cell_type": "code",
   "execution_count": 1,
   "id": "018dab5d-4482-456d-b494-31c2af567fe5",
   "metadata": {},
   "outputs": [],
   "source": [
    "import numpy as np\n",
    "import matplotlib.pyplot as plt\n",
    "import mpl_toolkits.mplot3d as mplot3d"
   ]
  },
  {
   "cell_type": "code",
   "execution_count": 9,
   "id": "aa0ac016-d945-4bb0-a718-58faaec0ec28",
   "metadata": {},
   "outputs": [
    {
     "name": "stdout",
     "output_type": "stream",
     "text": [
      "21.517434791350013 18.65475810617763 104.0\n",
      " \n",
      "[-0.32531759  0.46473941 -0.790057    0.23236971] [ 0.21442251  0.53605627 -0.32163376 -0.75047877]\n",
      " \n",
      "0.259091533689586\n"
     ]
    }
   ],
   "source": [
    "# Create two random-integer vectors (R4)\n",
    "n = 4\n",
    "v1 = np.round(20*np.random.randn(n))\n",
    "v2 = np.round(20*np.random.randn(n))\n",
    "\n",
    "# Compute Lengths of the individual vectors,\n",
    "# and the magnitude of their dot products\n",
    "v1m = np.sqrt(np.dot(v1, v1))\n",
    "v2m = np.sqrt(np.dot(v2, v2))\n",
    "\n",
    "dpm = np.abs(np.dot(v1, v2))\n",
    "print(v1m, v2m, dpm)\n",
    "print(' ')\n",
    "\n",
    "# Normalize the vectors\n",
    "v1u = v1/v1m\n",
    "v2u = v2/v2m\n",
    "print(v1u, v2u)\n",
    "print(' ')\n",
    "\n",
    "# Compute magnitude of that dot product\n",
    "dpm = np.abs(np.dot(v1u,v2u))\n",
    "print(dpm)"
   ]
  },
  {
   "cell_type": "code",
   "execution_count": null,
   "id": "8719a1fe-3d56-46bb-90ad-dbda10099097",
   "metadata": {},
   "outputs": [],
   "source": []
  },
  {
   "cell_type": "code",
   "execution_count": null,
   "id": "087b2991-4ba4-43bb-9397-05245f6b2fc9",
   "metadata": {},
   "outputs": [],
   "source": []
  },
  {
   "cell_type": "code",
   "execution_count": null,
   "id": "fa9d91c4-2f47-41a5-9a8f-29b636efd3b4",
   "metadata": {},
   "outputs": [],
   "source": []
  }
 ],
 "metadata": {
  "kernelspec": {
   "display_name": "Python 3 (ipykernel)",
   "language": "python",
   "name": "python3"
  },
  "language_info": {
   "codemirror_mode": {
    "name": "ipython",
    "version": 3
   },
   "file_extension": ".py",
   "mimetype": "text/x-python",
   "name": "python",
   "nbconvert_exporter": "python",
   "pygments_lexer": "ipython3",
   "version": "3.12.8"
  }
 },
 "nbformat": 4,
 "nbformat_minor": 5
}
