{
 "cells": [
  {
   "cell_type": "code",
   "execution_count": 1,
   "id": "018dab5d-4482-456d-b494-31c2af567fe5",
   "metadata": {},
   "outputs": [],
   "source": [
    "import numpy as np\n",
    "import matplotlib.pyplot as plt\n",
    "import mpl_toolkits.mplot3d as mplot3d"
   ]
  },
  {
   "cell_type": "code",
   "execution_count": 21,
   "id": "aa0ac016-d945-4bb0-a718-58faaec0ec28",
   "metadata": {},
   "outputs": [
    {
     "name": "stdout",
     "output_type": "stream",
     "text": [
      "0.7933147423028215\n"
     ]
    }
   ],
   "source": [
    "# Create two random integer vectors (R4)\n",
    "v1 = np.random.randint(10, size=4)\n",
    "v2 = np.random.randint(10, size=4)\n",
    "\n",
    "# Compute the length of* individual vectors and magnitude of the their dot product between these two vectors\n",
    "v1n = np.linalg.norm(v1)\n",
    "v2n = np.linalg.norm(v2)\n",
    "dp_v1_v2 = np.dot(v1, v2)\n",
    "\n",
    "# Normalize the vectors\n",
    "v1mu = 1 / v1n\n",
    "v2mu = 1 / v2n\n",
    "\n",
    "v1u = v1 * v1mu\n",
    "v2u = v2 * v2mu\n",
    "\n",
    "# Compute the magnitude of that dot product\n",
    "dp_v1u_v2u = np.dot(v1u, v2u)\n",
    "print(dp_v1u_v2u)"
   ]
  },
  {
   "cell_type": "code",
   "execution_count": null,
   "id": "8719a1fe-3d56-46bb-90ad-dbda10099097",
   "metadata": {},
   "outputs": [],
   "source": []
  },
  {
   "cell_type": "code",
   "execution_count": null,
   "id": "087b2991-4ba4-43bb-9397-05245f6b2fc9",
   "metadata": {},
   "outputs": [],
   "source": []
  }
 ],
 "metadata": {
  "kernelspec": {
   "display_name": "Python 3 (ipykernel)",
   "language": "python",
   "name": "python3"
  },
  "language_info": {
   "codemirror_mode": {
    "name": "ipython",
    "version": 3
   },
   "file_extension": ".py",
   "mimetype": "text/x-python",
   "name": "python",
   "nbconvert_exporter": "python",
   "pygments_lexer": "ipython3",
   "version": "3.12.8"
  }
 },
 "nbformat": 4,
 "nbformat_minor": 5
}
